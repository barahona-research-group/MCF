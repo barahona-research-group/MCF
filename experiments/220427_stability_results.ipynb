{
 "cells": [
  {
   "cell_type": "code",
   "execution_count": 1,
   "metadata": {},
   "outputs": [],
   "source": [
    "import numpy as np\n",
    "import pickle"
   ]
  },
  {
   "cell_type": "code",
   "execution_count": 38,
   "metadata": {},
   "outputs": [],
   "source": [
    "# Load data\n",
    "root = '/home/tc/OneDrive/Software/MSFiltration/experiments/'\n",
    "\n",
    "with open(root+'stability_sbm_04-27_16:29.pkl', 'rb') as handle:\n",
    "    distances_sbm = pickle.load(handle)\n",
    "\n",
    "bottleneck_sbm = distances_sbm['bottleneck']\n",
    "wasserstein_sbm = distances_sbm['wasserstein']\n",
    "\n",
    "with open(root+'stability_er_04-27_17:54.pkl', 'rb') as handle:\n",
    "    distances_er = pickle.load(handle)\n",
    "\n",
    "bottleneck_er = distances_er['bottleneck']\n",
    "wasserstein_er = distances_er['wasserstein']"
   ]
  }
 ],
 "metadata": {
  "interpreter": {
   "hash": "7f7f551f4ac0097efb5a145bf152d455a3ba2e604182ff7ffd6768450985e367"
  },
  "kernelspec": {
   "display_name": "Python 3.9.7 ('MSFiltration')",
   "language": "python",
   "name": "python3"
  },
  "language_info": {
   "codemirror_mode": {
    "name": "ipython",
    "version": 3
   },
   "file_extension": ".py",
   "mimetype": "text/x-python",
   "name": "python",
   "nbconvert_exporter": "python",
   "pygments_lexer": "ipython3",
   "version": "3.9.7"
  },
  "orig_nbformat": 4
 },
 "nbformat": 4,
 "nbformat_minor": 2
}
