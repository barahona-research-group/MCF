{
 "cells": [
  {
   "cell_type": "code",
   "execution_count": 1,
   "metadata": {},
   "outputs": [],
   "source": [
    "import numpy as np\n",
    "import pickle"
   ]
  },
  {
   "cell_type": "code",
   "execution_count": 16,
   "metadata": {},
   "outputs": [],
   "source": [
    "# Load data\n",
    "root = '/home/tc/OneDrive/Software/MSFiltration/experiments/'\n",
    "\n",
    "with open(root+'stability_sbm_04-27_16:29.pkl', 'rb') as handle:\n",
    "    distances_sbm = pickle.load(handle)\n",
    "\n",
    "# bottleneck_sbm = distance_sbm[0]\n",
    "# wasserstein_sbm = distance_sbm[1]\n",
    "\n",
    "with open(root+'stability_er_04-27_17:35.pkl', 'rb') as handle:\n",
    "    distances_er = pickle.load(handle)\n",
    "\n",
    "bottleneck_er = distance_er[0]\n",
    "wasserstein_er = distance_er[1]"
   ]
  },
  {
   "cell_type": "code",
   "execution_count": 17,
   "metadata": {},
   "outputs": [
    {
     "data": {
      "text/plain": [
       "array([[[0.        , 0.        , 0.        , 0.        ],\n",
       "        [0.55102041, 0.08163265, 0.        , 0.        ],\n",
       "        [0.55102041, 0.08163265, 0.        , 0.        ]],\n",
       "\n",
       "       [[0.55102041, 0.08163265, 0.        , 0.        ],\n",
       "        [0.        , 0.        , 0.        , 0.        ],\n",
       "        [0.18367347, 0.08163265, 0.        , 0.        ]],\n",
       "\n",
       "       [[0.55102041, 0.08163265, 0.        , 0.        ],\n",
       "        [0.18367347, 0.08163265, 0.        , 0.        ],\n",
       "        [0.        , 0.        , 0.        , 0.        ]]])"
      ]
     },
     "execution_count": 17,
     "metadata": {},
     "output_type": "execute_result"
    }
   ],
   "source": [
    "distances_sbm"
   ]
  },
  {
   "cell_type": "code",
   "execution_count": 19,
   "metadata": {},
   "outputs": [
    {
     "data": {
      "text/plain": [
       "array([[0.        , 0.        , 0.        , 0.        ],\n",
       "       [0.10204082,        inf,        inf, 0.        ],\n",
       "       [0.20408163,        inf,        inf, 0.        ]])"
      ]
     },
     "execution_count": 19,
     "metadata": {},
     "output_type": "execute_result"
    }
   ],
   "source": [
    "bottleneck_er"
   ]
  },
  {
   "cell_type": "code",
   "execution_count": 15,
   "metadata": {},
   "outputs": [
    {
     "ename": "IndexError",
     "evalue": "too many indices for array: array is 2-dimensional, but 3 were indexed",
     "output_type": "error",
     "traceback": [
      "\u001b[0;31m---------------------------------------------------------------------------\u001b[0m",
      "\u001b[0;31mIndexError\u001b[0m                                Traceback (most recent call last)",
      "\u001b[1;32m/home/tc/OneDrive/Software/MSFiltration/experiments/220427_stability_results.ipynb Cell 4'\u001b[0m in \u001b[0;36m<module>\u001b[0;34m\u001b[0m\n\u001b[0;32m----> <a href='vscode-notebook-cell:/home/tc/OneDrive/Software/MSFiltration/experiments/220427_stability_results.ipynb#ch0000009?line=0'>1</a>\u001b[0m bottleneck_er[:,:,\u001b[39m0\u001b[39;49m]\n",
      "\u001b[0;31mIndexError\u001b[0m: too many indices for array: array is 2-dimensional, but 3 were indexed"
     ]
    }
   ],
   "source": [
    "bottleneck_er[:,:,0]"
   ]
  },
  {
   "cell_type": "code",
   "execution_count": null,
   "metadata": {},
   "outputs": [],
   "source": []
  }
 ],
 "metadata": {
  "interpreter": {
   "hash": "7f7f551f4ac0097efb5a145bf152d455a3ba2e604182ff7ffd6768450985e367"
  },
  "kernelspec": {
   "display_name": "Python 3.9.7 ('MSFiltration')",
   "language": "python",
   "name": "python3"
  },
  "language_info": {
   "codemirror_mode": {
    "name": "ipython",
    "version": 3
   },
   "file_extension": ".py",
   "mimetype": "text/x-python",
   "name": "python",
   "nbconvert_exporter": "python",
   "pygments_lexer": "ipython3",
   "version": "3.9.7"
  },
  "orig_nbformat": 4
 },
 "nbformat": 4,
 "nbformat_minor": 2
}
